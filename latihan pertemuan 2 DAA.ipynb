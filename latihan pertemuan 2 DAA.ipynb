{
  "nbformat": 4,
  "nbformat_minor": 0,
  "metadata": {
    "colab": {
      "provenance": [],
      "authorship_tag": "ABX9TyN4m/WH4E0ZQJcYgqx/pX+e",
      "include_colab_link": true
    },
    "kernelspec": {
      "name": "python3",
      "display_name": "Python 3"
    },
    "language_info": {
      "name": "python"
    }
  },
  "cells": [
    {
      "cell_type": "markdown",
      "metadata": {
        "id": "view-in-github",
        "colab_type": "text"
      },
      "source": [
        "<a href=\"https://colab.research.google.com/github/athallah557/latihan-pertemuan-2/blob/main/latihan%20pertemuan%202%20DAA.ipynb\" target=\"_parent\"><img src=\"https://colab.research.google.com/assets/colab-badge.svg\" alt=\"Open In Colab\"/></a>"
      ]
    },
    {
      "cell_type": "code",
      "execution_count": 2,
      "metadata": {
        "colab": {
          "base_uri": "https://localhost:8080/"
        },
        "id": "1HpmsmovYgcD",
        "outputId": "894099da-a6d0-4a96-c156-d190e681c3d3"
      },
      "outputs": [
        {
          "output_type": "stream",
          "name": "stdout",
          "text": [
            "90\n"
          ]
        }
      ],
      "source": [
        "import numpy as np\n",
        "\n",
        "# membuat array\n",
        "nilai_siswa = np.array([85, 55, 40, 90])\n",
        "\n",
        "# mengakses data pada array\n",
        "print(nilai_siswa[3])\n"
      ]
    },
    {
      "cell_type": "code",
      "source": [
        "import numpy as np\n",
        "\n",
        "# Membuat array dengan teks yang diinginkan\n",
        "data = np.array([\"Hello, World!\", \"Nama saya [Khairul Athallah]\", \"NIM saya [2022071039]\"])\n",
        "\n",
        "# Mencetak isi array\n",
        "for text in data:\n",
        "    print(text)\n"
      ],
      "metadata": {
        "colab": {
          "base_uri": "https://localhost:8080/"
        },
        "id": "UWO-x8dGYq7Z",
        "outputId": "1a9cc1e3-34df-44aa-c7e3-9dce6a967995"
      },
      "execution_count": 4,
      "outputs": [
        {
          "output_type": "stream",
          "name": "stdout",
          "text": [
            "Hello, World!\n",
            "Nama saya [Khairul Athallah]\n",
            "NIM saya [2022071039]\n"
          ]
        }
      ]
    },
    {
      "cell_type": "code",
      "source": [
        "import numpy as np\n",
        "\n",
        "# Membuat array dengan dua angka\n",
        "array = np.array([5, 2])\n",
        "\n",
        "# Mengecek apakah elemen pertama lebih besar dari elemen kedua\n",
        "if array[0] > array[1]:\n",
        "    print(\"Five is greater than two!\")\n"
      ],
      "metadata": {
        "colab": {
          "base_uri": "https://localhost:8080/"
        },
        "id": "jhV-F7owZPne",
        "outputId": "d91a9345-4d21-431f-d28a-8da00f78c276"
      },
      "execution_count": 5,
      "outputs": [
        {
          "output_type": "stream",
          "name": "stdout",
          "text": [
            "Five is greater than two!\n"
          ]
        }
      ]
    },
    {
      "cell_type": "code",
      "source": [
        "import numpy as np\n",
        "\n",
        "# Membuat array dengan nilai integer dan string\n",
        "data = np.array([5, \"John\"], dtype=object)\n",
        "\n",
        "# Mencetak isi array\n",
        "print(data[0])  # Mencetak nilai 5\n",
        "print(data[1])  # Mencetak string \"John\"\n"
      ],
      "metadata": {
        "colab": {
          "base_uri": "https://localhost:8080/"
        },
        "id": "bfwjwVQ7ZpGC",
        "outputId": "e2466c2e-2e1c-4dd8-952c-b6e12eb2a3ba"
      },
      "execution_count": 6,
      "outputs": [
        {
          "output_type": "stream",
          "name": "stdout",
          "text": [
            "5\n",
            "John\n"
          ]
        }
      ]
    },
    {
      "cell_type": "code",
      "source": [
        "import numpy as np\n",
        "\n",
        "# Membuat array dengan nilai integer dan string\n",
        "data = np.array([4, \"Sally\"], dtype=object)\n",
        "\n",
        "# Mengganti nilai terakhir\n",
        "x = data[1]  # Nilai terakhir adalah \"Sally\"\n",
        "\n",
        "# Mencetak nilai x\n",
        "print(x)\n"
      ],
      "metadata": {
        "colab": {
          "base_uri": "https://localhost:8080/"
        },
        "id": "hiVh2yBYaYIk",
        "outputId": "1ddeef3b-94f4-4972-9712-2308588bb92d"
      },
      "execution_count": 7,
      "outputs": [
        {
          "output_type": "stream",
          "name": "stdout",
          "text": [
            "Sally\n"
          ]
        }
      ]
    },
    {
      "cell_type": "code",
      "source": [
        "myList = [10, 20, 30]\n",
        "\n",
        "# Mengambil elemen pertama\n",
        "getFirst = myList[0]\n",
        "\n",
        "# Mengambil elemen kedua\n",
        "getSecond = myList[1]\n",
        "\n",
        "print(\"First:\", getFirst)\n",
        "print(\"Second:\", getSecond)\n"
      ],
      "metadata": {
        "colab": {
          "base_uri": "https://localhost:8080/"
        },
        "id": "7Mbp4NKLadsy",
        "outputId": "1f9148d5-f28e-4a80-88cb-510b1533afe7"
      },
      "execution_count": 8,
      "outputs": [
        {
          "output_type": "stream",
          "name": "stdout",
          "text": [
            "First: 10\n",
            "Second: 20\n"
          ]
        }
      ]
    },
    {
      "cell_type": "code",
      "source": [
        "myList = [10, 20, 30]\n",
        "\n",
        "# Mengambil elemen pertama\n",
        "getFirst = myList[0]\n",
        "\n",
        "# Mengambil elemen terakhir\n",
        "getLast = myList[-1]\n",
        "\n",
        "print(\"First:\", getFirst)\n",
        "print(\"Last:\", getLast)\n"
      ],
      "metadata": {
        "colab": {
          "base_uri": "https://localhost:8080/"
        },
        "id": "r4vwKnmWa7EB",
        "outputId": "a2ef98ec-395f-4c50-acbf-55aa73adf71f"
      },
      "execution_count": 9,
      "outputs": [
        {
          "output_type": "stream",
          "name": "stdout",
          "text": [
            "First: 10\n",
            "Last: 30\n"
          ]
        }
      ]
    }
  ]
}